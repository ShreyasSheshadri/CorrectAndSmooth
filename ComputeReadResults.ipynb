{
 "cells": [
  {
   "cell_type": "markdown",
   "id": "c4b59888",
   "metadata": {},
   "source": [
    "## Generate Scripts to compute results"
   ]
  },
  {
   "cell_type": "code",
   "execution_count": 1,
   "id": "3723aabf",
   "metadata": {},
   "outputs": [],
   "source": [
    "res_runn = open('get_results.sh', 'w')\n",
    "run_commnd1 = 'python run_experiments.py --dataset {} --method {} > model_results/{}_{}.out\\n'\n",
    "run_commnd2 = 'python run_experiments.py --dataset {} --method {} --residue {} > model_results/{}_{}_{}.out\\n'\n",
    "for d in ['cora', 'citeseer', 'pubmed']:\n",
    "    for x in ['plain', 'linear', 'mlp']:\n",
    "        res_runn.write(run_commnd1.format(d, x, d, x))\n",
    "        for r in ['fixed', 'spread', 'random']:\n",
    "            res_runn.write(run_commnd2.format(d, x, r, d, x, r))\n",
    "res_runn.close()      "
   ]
  },
  {
   "cell_type": "code",
   "execution_count": 30,
   "id": "e6710600",
   "metadata": {},
   "outputs": [],
   "source": [
    "res_runn = open('get_results_arxiv.sh', 'w')\n",
    "run_commnd1 = 'python run_experiments.py --dataset {} --method {} > model_results/{}_{}.out\\n'\n",
    "run_commnd2 = 'python run_experiments.py --dataset {} --method {} --residue {} > model_results/{}_{}_{}.out\\n'\n",
    "for d in ['arxiv']:\n",
    "    for x in ['plain', 'linear', 'mlp']:\n",
    "        res_runn.write(run_commnd1.format(d, x, d, x))\n",
    "        for r in ['fixed', 'spread', 'random']:\n",
    "            res_runn.write(run_commnd2.format(d, x, r, d, x, r))\n",
    "res_runn.close()"
   ]
  },
  {
   "cell_type": "code",
   "execution_count": 11,
   "id": "5f4a06e8",
   "metadata": {},
   "outputs": [],
   "source": [
    "res_runn = open('get_results_products.sh', 'w')\n",
    "run_commnd1 = 'python run_experiments.py --dataset {} --method {} > model_results/{}_{}.out\\n'\n",
    "run_commnd2 = 'python run_experiments.py --dataset {} --method {} --residue {} > model_results/{}_{}_{}.out\\n'\n",
    "for d in ['products']:\n",
    "    for x in ['plain', 'linear', 'mlp']:\n",
    "        res_runn.write(run_commnd1.format(d, x, d, x))\n",
    "        for r in ['fixed', 'spread', 'random']:\n",
    "            res_runn.write(run_commnd2.format(d, x, r, d, x, r))\n",
    "res_runn.close()"
   ]
  },
  {
   "cell_type": "markdown",
   "id": "6ef241b8",
   "metadata": {},
   "source": [
    "## Read Results"
   ]
  },
  {
   "cell_type": "code",
   "execution_count": 16,
   "id": "b5d6739d",
   "metadata": {},
   "outputs": [],
   "source": [
    "methods = [x for x in ['plain', 'linear', 'mlp'] ] + ['{}_{}'.format(x, r) for r in ['fixed', 'spread', 'random'] for x in ['plain', 'linear', 'mlp']]\n"
   ]
  },
  {
   "cell_type": "code",
   "execution_count": 17,
   "id": "9abb8807",
   "metadata": {},
   "outputs": [
    {
     "data": {
      "text/plain": [
       "['plain',\n",
       " 'linear',\n",
       " 'mlp',\n",
       " 'plain_fixed',\n",
       " 'linear_fixed',\n",
       " 'mlp_fixed',\n",
       " 'plain_spread',\n",
       " 'linear_spread',\n",
       " 'mlp_spread',\n",
       " 'plain_random',\n",
       " 'linear_random',\n",
       " 'mlp_random']"
      ]
     },
     "execution_count": 17,
     "metadata": {},
     "output_type": "execute_result"
    }
   ],
   "source": [
    "methods"
   ]
  },
  {
   "cell_type": "code",
   "execution_count": 18,
   "id": "fbe9e7fa",
   "metadata": {},
   "outputs": [],
   "source": [
    "import pandas as pd"
   ]
  },
  {
   "cell_type": "code",
   "execution_count": 19,
   "id": "0ec1e2fd",
   "metadata": {},
   "outputs": [],
   "source": [
    "metrics_df = pd.DataFrame(methods, columns=['methods'])"
   ]
  },
  {
   "cell_type": "code",
   "execution_count": 20,
   "id": "db01c89e",
   "metadata": {},
   "outputs": [],
   "source": [
    "def get_metric(fn):\n",
    "    f = open('model_results/{}.out'.format(fn), 'r')\n",
    "    fop = f.readlines()\n",
    "    return fop[-1].split('->')[-1].strip()"
   ]
  },
  {
   "cell_type": "code",
   "execution_count": 21,
   "id": "d605d995",
   "metadata": {},
   "outputs": [],
   "source": [
    "metrics_df['cora'] = metrics_df['methods'].apply(lambda x: get_metric('cora_{}'.format(x)))"
   ]
  },
  {
   "cell_type": "code",
   "execution_count": 22,
   "id": "60fe6ba5",
   "metadata": {},
   "outputs": [],
   "source": [
    "metrics_df['citeseer'] = metrics_df['methods'].apply(lambda x: get_metric('citeseer_{}'.format(x)))"
   ]
  },
  {
   "cell_type": "code",
   "execution_count": 23,
   "id": "fc8959eb",
   "metadata": {},
   "outputs": [],
   "source": [
    "metrics_df['pubmed'] = metrics_df['methods'].apply(lambda x: get_metric('pubmed_{}'.format(x)))"
   ]
  },
  {
   "cell_type": "code",
   "execution_count": 24,
   "id": "27e277ed",
   "metadata": {},
   "outputs": [],
   "source": [
    "metrics_df['arxiv'] = metrics_df['methods'].apply(lambda x: get_metric('arxiv_{}'.format(x)))"
   ]
  },
  {
   "cell_type": "code",
   "execution_count": 25,
   "id": "c804f9c3",
   "metadata": {},
   "outputs": [],
   "source": [
    "metrics_df['products'] = metrics_df['methods'].apply(lambda x: get_metric('products_{}'.format(x)))"
   ]
  },
  {
   "cell_type": "code",
   "execution_count": 26,
   "id": "c988ed3f",
   "metadata": {},
   "outputs": [
    {
     "data": {
      "text/html": [
       "<div>\n",
       "<style scoped>\n",
       "    .dataframe tbody tr th:only-of-type {\n",
       "        vertical-align: middle;\n",
       "    }\n",
       "\n",
       "    .dataframe tbody tr th {\n",
       "        vertical-align: top;\n",
       "    }\n",
       "\n",
       "    .dataframe thead th {\n",
       "        text-align: right;\n",
       "    }\n",
       "</style>\n",
       "<table border=\"1\" class=\"dataframe\">\n",
       "  <thead>\n",
       "    <tr style=\"text-align: right;\">\n",
       "      <th></th>\n",
       "      <th>methods</th>\n",
       "      <th>cora</th>\n",
       "      <th>citeseer</th>\n",
       "      <th>pubmed</th>\n",
       "      <th>arxiv</th>\n",
       "      <th>products</th>\n",
       "    </tr>\n",
       "  </thead>\n",
       "  <tbody>\n",
       "    <tr>\n",
       "      <th>0</th>\n",
       "      <td>plain</td>\n",
       "      <td>75.10 ± 0.17</td>\n",
       "      <td>62.96 ± 0.28</td>\n",
       "      <td>74.40 ± 0.36</td>\n",
       "      <td>71.26 ± 0.01</td>\n",
       "      <td>82.49 ± 0.02</td>\n",
       "    </tr>\n",
       "    <tr>\n",
       "      <th>1</th>\n",
       "      <td>linear</td>\n",
       "      <td>75.41 ± 0.09</td>\n",
       "      <td>66.16 ± 0.35</td>\n",
       "      <td>77.16 ± 0.13</td>\n",
       "      <td>72.21 ± 0.04</td>\n",
       "      <td>82.95 ± 0.01</td>\n",
       "    </tr>\n",
       "    <tr>\n",
       "      <th>2</th>\n",
       "      <td>mlp</td>\n",
       "      <td>79.68 ± 0.74</td>\n",
       "      <td>67.24 ± 2.03</td>\n",
       "      <td>75.97 ± 0.81</td>\n",
       "      <td>73.06 ± 0.19</td>\n",
       "      <td>84.23 ± 0.07</td>\n",
       "    </tr>\n",
       "    <tr>\n",
       "      <th>3</th>\n",
       "      <td>plain_fixed</td>\n",
       "      <td>73.09 ± 0.66</td>\n",
       "      <td>64.27 ± 0.36</td>\n",
       "      <td>67.63 ± 0.65</td>\n",
       "      <td>70.93 ± 0.01</td>\n",
       "      <td>82.49 ± 0.02</td>\n",
       "    </tr>\n",
       "    <tr>\n",
       "      <th>4</th>\n",
       "      <td>linear_fixed</td>\n",
       "      <td>75.46 ± 0.65</td>\n",
       "      <td>67.76 ± 0.40</td>\n",
       "      <td>76.96 ± 0.11</td>\n",
       "      <td>71.88 ± 0.01</td>\n",
       "      <td>82.95 ± 0.01</td>\n",
       "    </tr>\n",
       "    <tr>\n",
       "      <th>5</th>\n",
       "      <td>mlp_fixed</td>\n",
       "      <td>79.68 ± 0.74</td>\n",
       "      <td>67.24 ± 2.03</td>\n",
       "      <td>75.98 ± 0.83</td>\n",
       "      <td>72.82 ± 0.17</td>\n",
       "      <td>84.23 ± 0.07</td>\n",
       "    </tr>\n",
       "    <tr>\n",
       "      <th>6</th>\n",
       "      <td>plain_spread</td>\n",
       "      <td>59.57 ± 1.98</td>\n",
       "      <td>62.71 ± 1.10</td>\n",
       "      <td>32.11 ± 9.29</td>\n",
       "      <td>69.47 ± 0.03</td>\n",
       "      <td>81.79 ± 0.02</td>\n",
       "    </tr>\n",
       "    <tr>\n",
       "      <th>7</th>\n",
       "      <td>linear_spread</td>\n",
       "      <td>70.95 ± 3.30</td>\n",
       "      <td>68.98 ± 0.25</td>\n",
       "      <td>77.01 ± 0.13</td>\n",
       "      <td>71.85 ± 0.03</td>\n",
       "      <td>82.30 ± 0.01</td>\n",
       "    </tr>\n",
       "    <tr>\n",
       "      <th>8</th>\n",
       "      <td>mlp_spread</td>\n",
       "      <td>79.68 ± 0.74</td>\n",
       "      <td>67.24 ± 2.03</td>\n",
       "      <td>75.98 ± 0.83</td>\n",
       "      <td>72.53 ± 0.14</td>\n",
       "      <td>84.04 ± 0.07</td>\n",
       "    </tr>\n",
       "    <tr>\n",
       "      <th>9</th>\n",
       "      <td>plain_random</td>\n",
       "      <td>52.25 ± 1.83</td>\n",
       "      <td>43.50 ± 7.16</td>\n",
       "      <td>43.33 ± 5.50</td>\n",
       "      <td>69.39 ± 0.02</td>\n",
       "      <td>82.22 ± 0.04</td>\n",
       "    </tr>\n",
       "    <tr>\n",
       "      <th>10</th>\n",
       "      <td>linear_random</td>\n",
       "      <td>67.77 ± 5.24</td>\n",
       "      <td>44.20 ± 2.28</td>\n",
       "      <td>76.95 ± 0.08</td>\n",
       "      <td>71.85 ± 0.03</td>\n",
       "      <td>82.69 ± 0.01</td>\n",
       "    </tr>\n",
       "    <tr>\n",
       "      <th>11</th>\n",
       "      <td>mlp_random</td>\n",
       "      <td>79.68 ± 0.74</td>\n",
       "      <td>67.24 ± 2.03</td>\n",
       "      <td>75.98 ± 0.83</td>\n",
       "      <td>72.53 ± 0.14</td>\n",
       "      <td>84.22 ± 0.07</td>\n",
       "    </tr>\n",
       "  </tbody>\n",
       "</table>\n",
       "</div>"
      ],
      "text/plain": [
       "          methods          cora      citeseer        pubmed         arxiv  \\\n",
       "0           plain  75.10 ± 0.17  62.96 ± 0.28  74.40 ± 0.36  71.26 ± 0.01   \n",
       "1          linear  75.41 ± 0.09  66.16 ± 0.35  77.16 ± 0.13  72.21 ± 0.04   \n",
       "2             mlp  79.68 ± 0.74  67.24 ± 2.03  75.97 ± 0.81  73.06 ± 0.19   \n",
       "3     plain_fixed  73.09 ± 0.66  64.27 ± 0.36  67.63 ± 0.65  70.93 ± 0.01   \n",
       "4    linear_fixed  75.46 ± 0.65  67.76 ± 0.40  76.96 ± 0.11  71.88 ± 0.01   \n",
       "5       mlp_fixed  79.68 ± 0.74  67.24 ± 2.03  75.98 ± 0.83  72.82 ± 0.17   \n",
       "6    plain_spread  59.57 ± 1.98  62.71 ± 1.10  32.11 ± 9.29  69.47 ± 0.03   \n",
       "7   linear_spread  70.95 ± 3.30  68.98 ± 0.25  77.01 ± 0.13  71.85 ± 0.03   \n",
       "8      mlp_spread  79.68 ± 0.74  67.24 ± 2.03  75.98 ± 0.83  72.53 ± 0.14   \n",
       "9    plain_random  52.25 ± 1.83  43.50 ± 7.16  43.33 ± 5.50  69.39 ± 0.02   \n",
       "10  linear_random  67.77 ± 5.24  44.20 ± 2.28  76.95 ± 0.08  71.85 ± 0.03   \n",
       "11     mlp_random  79.68 ± 0.74  67.24 ± 2.03  75.98 ± 0.83  72.53 ± 0.14   \n",
       "\n",
       "        products  \n",
       "0   82.49 ± 0.02  \n",
       "1   82.95 ± 0.01  \n",
       "2   84.23 ± 0.07  \n",
       "3   82.49 ± 0.02  \n",
       "4   82.95 ± 0.01  \n",
       "5   84.23 ± 0.07  \n",
       "6   81.79 ± 0.02  \n",
       "7   82.30 ± 0.01  \n",
       "8   84.04 ± 0.07  \n",
       "9   82.22 ± 0.04  \n",
       "10  82.69 ± 0.01  \n",
       "11  84.22 ± 0.07  "
      ]
     },
     "execution_count": 26,
     "metadata": {},
     "output_type": "execute_result"
    }
   ],
   "source": [
    "metrics_df"
   ]
  },
  {
   "cell_type": "code",
   "execution_count": null,
   "id": "f3b00fe7",
   "metadata": {},
   "outputs": [],
   "source": []
  }
 ],
 "metadata": {
  "kernelspec": {
   "display_name": "Python 3 (ipykernel)",
   "language": "python",
   "name": "python3"
  },
  "language_info": {
   "codemirror_mode": {
    "name": "ipython",
    "version": 3
   },
   "file_extension": ".py",
   "mimetype": "text/x-python",
   "name": "python",
   "nbconvert_exporter": "python",
   "pygments_lexer": "ipython3",
   "version": "3.9.7"
  }
 },
 "nbformat": 4,
 "nbformat_minor": 5
}
